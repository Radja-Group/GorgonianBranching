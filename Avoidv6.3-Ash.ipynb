{
 "cells": [
  {
   "cell_type": "code",
   "execution_count": 16,
   "metadata": {},
   "outputs": [
    {
     "data": {
      "image/png": "[encoded data removed]",
      "text/plain": [
       "<Figure size 432x288 with 1 Axes>"
      ]
     },
     "metadata": {
      "needs_background": "light"
     },
     "output_type": "display_data"
    }
   ],
   "source": [
    "import random\n",
    "import numpy as np\n",
    "import matplotlib.pyplot as plt\n",
    "from pylab import *\n",
    "\n",
    "N = 11 # number of steps\n",
    "w = 2 # number of walkers\n",
    "noutput = 10 # determins number of graphs\n",
    "\n",
    "# From stack exchange, create function which can calculate the angle between line and x-axis that we define\n",
    "\n",
    "def angle_trunc(a):\n",
    "    while a < 0.0:\n",
    "        a += pi * 2\n",
    "    return a\n",
    "\n",
    "def AngleBtwPt(x_orig, y_orig, x_landmark, y_landmark):\n",
    "    deltaY = y_landmark - y_orig\n",
    "    deltaX = x_landmark - x_orig\n",
    "    return angle_trunc(math.atan2(deltaY, deltaX))\n",
    "\n",
    "# walker 1\n",
    "w1 = [[0,0]]\n",
    "\n",
    "# walker 2\n",
    "w2 = [[0,0]]\n",
    "\n",
    "# creating list of walkers\n",
    "a = [w1,w2]\n",
    "\n",
    "# angle list (one for each walker)\n",
    "angles1 = []\n",
    "angles2 = []\n",
    "\n",
    "\n",
    "for iN in range(1,N):\n",
    "    \n",
    "    d1 = [np.random.random() - 0.5,np.random.random() - 0.5]\n",
    "    w1.append([sum(steps1) for steps1 in zip(w1[-1],d1)])\n",
    "\n",
    "    d2 = [np.random.random() - 0.5,np.random.random() - 0.5]\n",
    "    w2.append([sum(steps2) for steps2 in zip(w2[-1],d2)])\n",
    "    \n",
    "    # removes \"memory\" of previous step angles\n",
    "    \n",
    "    angles1.clear()\n",
    "    angles2.clear()\n",
    "        \n",
    "    for ik in range(1,iN): # ik = i check # for other avoidance # angles are being recalculated, so I might be able to decrease run time if I figure out how\n",
    "        \n",
    "        for it in range(ik + 2): # calculate angles and find the max and min for w1          \n",
    "        \n",
    "            theta1 = AngleBtwPt(w1[iN - 1][0],w1[iN - 1][1],w2[it][0],w2[it][1])\n",
    "            angles1.append(theta1)\n",
    "        \n",
    "            dthetamax1 = np.max(angles1)\n",
    "            dthetamin1 = np.min(angles1)\n",
    "            \n",
    "        if (dthetamax1 - dthetamin1) < np.pi:\n",
    "            \n",
    "            while dthetamin1 <= AngleBtwPt(w1[iN - 1][0],w1[iN - 1][1],w1[iN][0],w1[iN][1]) <= dthetamax1: # checks if w1 ran into w2\n",
    "\n",
    "                w1.pop()\n",
    "\n",
    "                d1 = [np.random.random() - 0.5,np.random.random() - 0.5]\n",
    "                w1.append([sum(steps1) for steps1 in zip(w1[-1],d1)])\n",
    "                \n",
    "        else:\n",
    "            \n",
    "            while AngleBtwPt(w1[iN - 1][0],w1[iN - 1][1],w1[iN][0],w1[iN][1]) >= dthetamax1 or AngleBtwPt(w1[iN - 1][0],w1[iN - 1][1],w1[iN][0],w1[iN][1]) <= dthetamin1: # checks if w1 ran into w2\n",
    "\n",
    "                w1.pop()\n",
    "\n",
    "                d1 = [np.random.random() - 0.5,np.random.random() - 0.5]\n",
    "                w1.append([sum(steps1) for steps1 in zip(w1[-1],d1)])\n",
    "            \n",
    "        for it in range(ik + 2): # calculate angles and find the max and min for w2\n",
    "        \n",
    "            theta2 = AngleBtwPt(w2[iN - 1][0],w2[iN - 1][1],w1[it][0],w1[it][1])\n",
    "            angles2.append(theta2)\n",
    "        \n",
    "            dthetamax2 = np.max(angles2)\n",
    "            dthetamin2 = np.min(angles2)\n",
    "            \n",
    "        if (dthetamax2 - dthetamin2) < np.pi:  \n",
    "\n",
    "            while dthetamin2 <= AngleBtwPt(w2[iN - 1][0],w2[iN - 1][1],w2[iN][0],w2[iN][1]) <= dthetamax2: # checks if w2 ran into w1\n",
    "            \n",
    "                w2.pop()\n",
    "\n",
    "                d2 = [np.random.random() - 0.5,np.random.random() - 0.5]\n",
    "                w2.append([sum(steps2) for steps2 in zip(w2[-1],d2)])\n",
    "                \n",
    "        else:\n",
    "            \n",
    "            while AngleBtwPt(w2[iN - 1][0],w2[iN - 1][1],w2[iN][0],w2[iN][1]) >= dthetamax2 or AngleBtwPt(w2[iN - 1][0],w2[iN - 1][1],w2[iN][0],w2[iN][1]) <= dthetamin2: # checks if w2 ran into w1\n",
    "\n",
    "                w2.pop()\n",
    "\n",
    "                d2 = [np.random.random() - 0.5,np.random.random() - 0.5]\n",
    "                w2.append([sum(steps2) for steps2 in zip(w2[-1],d2)])\n",
    "\n",
    "#         for ic in range(1,iN - 1): # for self avoidance\n",
    "\n",
    "#             while math.dist(w1[iN],w1[ic]) < rs: # checks if w1 ran into w1\n",
    "\n",
    "#                 w1.pop()\n",
    "\n",
    "#                 d1 = [np.random.random() - 0.5,np.random.random() - 0.5]\n",
    "#                 w1.append([sum(steps1) for steps1 in zip(w1[-1],d1)])\n",
    "\n",
    "#             while math.dist(w2[ic],w2[iN]) < rs: # checks if w2 ran into w2\n",
    "\n",
    "#                 w2.pop()\n",
    "\n",
    "#                 d2 = [np.random.random() - 0.5,np.random.random() - 0.5]\n",
    "#                 w2.append([sum(steps2) for steps2 in zip(w2[-1],d2)])\n",
    "                \n",
    "    # plot the positions of both walkers\n",
    "    x1, y1 = zip(*w1)\n",
    "    x2, y2 = zip(*w2)\n",
    "        \n",
    "    if (mod(iN,noutput)==0):\n",
    "        plt.plot(x1,y1)\n",
    "        plt.plot(x2,y2)\n",
    "        plt.title('Steps = ' + str(iN))\n",
    "        plt.show()"
   ]
  },
  {
   "cell_type": "code",
   "execution_count": 104,
   "metadata": {},
   "outputs": [
    {
     "data": {
      "text/plain": [
       "[[0, 0],\n",
       " [-0.06539191374730402, 0.12443434342093374],\n",
       " [0.4206356282283713, 0.5242144556373771],\n",
       " [0.16854785798818261, 0.09428904081564726],\n",
       " [0.21724884569550906, -0.13014835068075714]]"
      ]
     },
     "execution_count": 104,
     "metadata": {},
     "output_type": "execute_result"
    }
   ],
   "source": [
    "w2"
   ]
  },
  {
   "cell_type": "code",
   "execution_count": 103,
   "metadata": {},
   "outputs": [
    {
     "data": {
      "text/plain": [
       "1.9402676136308397"
      ]
     },
     "execution_count": 103,
     "metadata": {},
     "output_type": "execute_result"
    }
   ],
   "source": [
    "AngleBtwPt(w2[1][0],w2[1][1],w1[1][0],w1[1][1])"
   ]
  },
  {
   "cell_type": "code",
   "execution_count": 14,
   "metadata": {},
   "outputs": [
    {
     "data": {
      "image/png": "[encoded data removed]",
      "text/plain": [
       "<Figure size 432x288 with 1 Axes>"
      ]
     },
     "metadata": {
      "needs_background": "light"
     },
     "output_type": "display_data"
    }
   ],
   "source": [
    "plt.plot(x1,y1)\n",
    "plt.plot(x2,y2)\n",
    "plt.title('Steps = ' + str(iN))\n",
    "plt.xlim(-.2,.2)\n",
    "plt.ylim(-.5,.5)\n",
    "plt.show()"
   ]
  },
  {
   "cell_type": "code",
   "execution_count": null,
   "metadata": {},
   "outputs": [],
   "source": []
  }
 ],
 "metadata": {
  "kernelspec": {
   "display_name": "Python 3",
   "language": "python",
   "name": "python3"
  },
  "language_info": {
   "codemirror_mode": {
    "name": "ipython",
    "version": 3
   },
   "file_extension": ".py",
   "mimetype": "text/x-python",
   "name": "python",
   "nbconvert_exporter": "python",
   "pygments_lexer": "ipython3",
   "version": "3.8.5"
  }
 },
 "nbformat": 4,
 "nbformat_minor": 5
}
